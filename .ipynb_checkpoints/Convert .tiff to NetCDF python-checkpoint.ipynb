{
 "cells": [
  {
   "cell_type": "code",
   "execution_count": null,
   "id": "b0787c43",
   "metadata": {},
   "outputs": [],
   "source": [
    "# Convert one tiff file to NetCDF\n",
    "# osgeo should be install on your machine first!\n",
    "5import osgeo\n",
    "from osgeo import gdal\n",
    "import numpy as np\n",
    "# Converting single file\n",
    "inputfile = 'The file_name'\n",
    "outputfile = 'name.nc'\n",
    "# the following command will convert the geoTIFF to a netCDF\n",
    "ds = gdal.Translate(outputfile, inputfile, format='NetCDF')"
   ]
  },
  {
   "cell_type": "code",
   "execution_count": null,
   "id": "9b2723e7",
   "metadata": {},
   "outputs": [],
   "source": [
    "# Convert multi tiff files to NetCDF and compress them\n",
    "import glob, os\n",
    "from osgeo import gdal\n",
    "\n",
    "in_path=\"The input folder path\"\n",
    "#out_path =\"the output folder path\"\n",
    "file_list = os.listdir(in_path)\n",
    "# Sellecting files with tiff format \n",
    "file_list= [file for file in os.listdir(in_path) if os.path.splitext(file)[1] == '.tiff']\n",
    "\n",
    "for file in file_list:\n",
    "    print (file)\n",
    "    src_ds = gdal.Open(os.path.join(in_path, file))\n",
    "    out_path = os.path.join(in_path, file[:-5] + '.nc') # changing the format\n",
    "    gdal.Translate(out_path, src_ds, format='NetCDF', creationOptions=['COMPRESS=DEFLATE', 'PREDICTOR=2']) #convert and comperss files\n"
   ]
  }
 ],
 "metadata": {
  "kernelspec": {
   "display_name": "Python 3 (ipykernel)",
   "language": "python",
   "name": "python3"
  },
  "language_info": {
   "codemirror_mode": {
    "name": "ipython",
    "version": 3
   },
   "file_extension": ".py",
   "mimetype": "text/x-python",
   "name": "python",
   "nbconvert_exporter": "python",
   "pygments_lexer": "ipython3",
   "version": "3.9.13"
  }
 },
 "nbformat": 4,
 "nbformat_minor": 5
}
